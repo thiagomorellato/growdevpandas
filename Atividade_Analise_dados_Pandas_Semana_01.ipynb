{
  "cells": [
    {
      "cell_type": "markdown",
      "metadata": {
        "id": "v8pFWwviib2C"
      },
      "source": [
        "![Growdev](https://www.growdev.com.br/assets/images/logo_growdev.png)"
      ]
    },
    {
      "cell_type": "markdown",
      "metadata": {
        "id": "6Tkl4_HxifXZ"
      },
      "source": [
        "![Formação Engenharia de Dados](https://d335luupugsy2.cloudfront.net/cms/files/524558/1707226566/$occu5m8t1op)"
      ]
    },
    {
      "cell_type": "markdown",
      "metadata": {
        "id": "ty7Bzyl1i9bN"
      },
      "source": [
        "Este material tem como objetivo incentivar a prática dos conteúdos estudados até o momento, e a pesquisa. Tenha em consideração que o exercício foi pensado para incentivar a prática dos conteúdos estudados até então, porém aprender a pesquisar faz parte do processo de aprendizagem.\n",
        "\n",
        "Fique tranquilo, faça os exercícios com calma, e boa prática!\n"
      ]
    },
    {
      "cell_type": "markdown",
      "metadata": {
        "id": "DU5-yCQwjx3V"
      },
      "source": [
        "#Orientações:\n",
        "\n",
        " - Faça uma copia deste arquivo\n",
        " - Após concluir os exercicios, suba seu exercicio para o GitHub e compartilhe o link no **google** Classroom\n"
      ]
    },
    {
      "cell_type": "markdown",
      "metadata": {
        "id": "jPJ5hyxa2cos"
      },
      "source": [
        "\n",
        "Utilize o dataset contido nesse [link](https://www.kaggle.com/datasets/upadorprofzs/testes), e responda as questões abaixo.\n",
        "\n",
        "O dataset contém dados estatísticos do IBGE relativos à escolaridade, renda entre outros campos avaliados pela  PNAD (Pesquisa Nacional por Amostra de Domicílios).\n",
        "\n",
        "Os dados podem representar informações relevantes e reveladoras sobre a distribuição de renda e possivelmente alguns indicadores sobre tais situações encontradas a partir dos dados."
      ]
    },
    {
      "cell_type": "markdown",
      "metadata": {
        "id": "EzT810tnlmfE"
      },
      "source": [
        "#Exercícios"
      ]
    },
    {
      "cell_type": "markdown",
      "metadata": {
        "id": "sYEv1vohLu34"
      },
      "source": [
        "Qual a quantidade de pessoas nas seguintes faixas etárias\n",
        "- 20 anos ou menos\n",
        "- 21 a 35 anos\n",
        "- 36 a 50 anos\n",
        "- 51 a 65 anos\n",
        "- maiores de 65 anos\n",
        "\n"
      ]
    },
    {
      "cell_type": "code",
      "execution_count": 10,
      "metadata": {
        "id": "0drCl45SMELV"
      },
      "outputs": [
        {
          "data": {
            "text/html": [
              "<div>\n",
              "<style scoped>\n",
              "    .dataframe tbody tr th:only-of-type {\n",
              "        vertical-align: middle;\n",
              "    }\n",
              "\n",
              "    .dataframe tbody tr th {\n",
              "        vertical-align: top;\n",
              "    }\n",
              "\n",
              "    .dataframe thead th {\n",
              "        text-align: right;\n",
              "    }\n",
              "</style>\n",
              "<table border=\"1\" class=\"dataframe\">\n",
              "  <thead>\n",
              "    <tr style=\"text-align: right;\">\n",
              "      <th></th>\n",
              "      <th>UF</th>\n",
              "      <th>Sexo</th>\n",
              "      <th>Idade</th>\n",
              "      <th>Cor</th>\n",
              "      <th>Anos de Estudo</th>\n",
              "      <th>Renda</th>\n",
              "      <th>Altura</th>\n",
              "    </tr>\n",
              "  </thead>\n",
              "  <tbody>\n",
              "    <tr>\n",
              "      <th>0</th>\n",
              "      <td>11</td>\n",
              "      <td>0</td>\n",
              "      <td>23</td>\n",
              "      <td>8</td>\n",
              "      <td>12</td>\n",
              "      <td>800</td>\n",
              "      <td>1.603808</td>\n",
              "    </tr>\n",
              "    <tr>\n",
              "      <th>1</th>\n",
              "      <td>11</td>\n",
              "      <td>1</td>\n",
              "      <td>23</td>\n",
              "      <td>2</td>\n",
              "      <td>12</td>\n",
              "      <td>1150</td>\n",
              "      <td>1.739790</td>\n",
              "    </tr>\n",
              "    <tr>\n",
              "      <th>2</th>\n",
              "      <td>11</td>\n",
              "      <td>1</td>\n",
              "      <td>35</td>\n",
              "      <td>8</td>\n",
              "      <td>15</td>\n",
              "      <td>880</td>\n",
              "      <td>1.760444</td>\n",
              "    </tr>\n",
              "    <tr>\n",
              "      <th>3</th>\n",
              "      <td>11</td>\n",
              "      <td>0</td>\n",
              "      <td>46</td>\n",
              "      <td>2</td>\n",
              "      <td>6</td>\n",
              "      <td>3500</td>\n",
              "      <td>1.783158</td>\n",
              "    </tr>\n",
              "    <tr>\n",
              "      <th>4</th>\n",
              "      <td>11</td>\n",
              "      <td>1</td>\n",
              "      <td>47</td>\n",
              "      <td>8</td>\n",
              "      <td>9</td>\n",
              "      <td>150</td>\n",
              "      <td>1.690631</td>\n",
              "    </tr>\n",
              "    <tr>\n",
              "      <th>...</th>\n",
              "      <td>...</td>\n",
              "      <td>...</td>\n",
              "      <td>...</td>\n",
              "      <td>...</td>\n",
              "      <td>...</td>\n",
              "      <td>...</td>\n",
              "      <td>...</td>\n",
              "    </tr>\n",
              "    <tr>\n",
              "      <th>76835</th>\n",
              "      <td>53</td>\n",
              "      <td>1</td>\n",
              "      <td>46</td>\n",
              "      <td>2</td>\n",
              "      <td>11</td>\n",
              "      <td>812</td>\n",
              "      <td>1.687030</td>\n",
              "    </tr>\n",
              "    <tr>\n",
              "      <th>76836</th>\n",
              "      <td>53</td>\n",
              "      <td>0</td>\n",
              "      <td>30</td>\n",
              "      <td>4</td>\n",
              "      <td>7</td>\n",
              "      <td>1500</td>\n",
              "      <td>1.792934</td>\n",
              "    </tr>\n",
              "    <tr>\n",
              "      <th>76837</th>\n",
              "      <td>53</td>\n",
              "      <td>0</td>\n",
              "      <td>32</td>\n",
              "      <td>8</td>\n",
              "      <td>12</td>\n",
              "      <td>1300</td>\n",
              "      <td>1.830587</td>\n",
              "    </tr>\n",
              "    <tr>\n",
              "      <th>76838</th>\n",
              "      <td>53</td>\n",
              "      <td>0</td>\n",
              "      <td>57</td>\n",
              "      <td>8</td>\n",
              "      <td>4</td>\n",
              "      <td>1500</td>\n",
              "      <td>1.726344</td>\n",
              "    </tr>\n",
              "    <tr>\n",
              "      <th>76839</th>\n",
              "      <td>53</td>\n",
              "      <td>0</td>\n",
              "      <td>38</td>\n",
              "      <td>8</td>\n",
              "      <td>4</td>\n",
              "      <td>900</td>\n",
              "      <td>1.658305</td>\n",
              "    </tr>\n",
              "  </tbody>\n",
              "</table>\n",
              "<p>76840 rows × 7 columns</p>\n",
              "</div>"
            ],
            "text/plain": [
              "       UF  Sexo  Idade  Cor  Anos de Estudo  Renda    Altura\n",
              "0      11     0     23    8              12    800  1.603808\n",
              "1      11     1     23    2              12   1150  1.739790\n",
              "2      11     1     35    8              15    880  1.760444\n",
              "3      11     0     46    2               6   3500  1.783158\n",
              "4      11     1     47    8               9    150  1.690631\n",
              "...    ..   ...    ...  ...             ...    ...       ...\n",
              "76835  53     1     46    2              11    812  1.687030\n",
              "76836  53     0     30    4               7   1500  1.792934\n",
              "76837  53     0     32    8              12   1300  1.830587\n",
              "76838  53     0     57    8               4   1500  1.726344\n",
              "76839  53     0     38    8               4    900  1.658305\n",
              "\n",
              "[76840 rows x 7 columns]"
            ]
          },
          "execution_count": 10,
          "metadata": {},
          "output_type": "execute_result"
        }
      ],
      "source": [
        "import pandas as pd\n",
        "\n",
        "\n",
        "df_ibge = pd.read_csv('dados.csv')\n",
        "\n",
        "df_ibge"
      ]
    },
    {
      "cell_type": "code",
      "execution_count": 22,
      "metadata": {},
      "outputs": [
        {
          "name": "stdout",
          "output_type": "stream",
          "text": [
            "Faixa Etária\n",
            "36 a 50 anos          31795\n",
            "51 a 65 anos          21511\n",
            "21 a 35 anos          18789\n",
            "maiores de 65 anos     4322\n",
            "20 anos ou menos        423\n",
            "Name: count, dtype: int64\n"
          ]
        }
      ],
      "source": [
        "\n",
        "bins = [0, 20, 35, 50, 65, float('inf')]\n",
        "labels = ['20 anos ou menos', '21 a 35 anos', '36 a 50 anos', '51 a 65 anos', 'maiores de 65 anos']\n",
        "\n",
        "\n",
        "df_ibge['Faixa Etária'] = pd.cut(df_ibge['Idade'], bins=bins, labels=labels, right=False)\n",
        "\n",
        "\n",
        "faixa_etaria_contagem = df_ibge['Faixa Etária'].value_counts()\n",
        "\n",
        "print(faixa_etaria_contagem)"
      ]
    },
    {
      "cell_type": "markdown",
      "metadata": {
        "id": "6y7X1dc-MFr1"
      },
      "source": [
        "Qual é a média de escolaridade em cada faixa etária?\n"
      ]
    },
    {
      "cell_type": "code",
      "execution_count": 23,
      "metadata": {
        "id": "6X6M5T7EMb-G"
      },
      "outputs": [
        {
          "name": "stdout",
          "output_type": "stream",
          "text": [
            "Faixa Etária\n",
            "20 anos ou menos       9.314421\n",
            "21 a 35 anos          10.836500\n",
            "36 a 50 anos           9.837993\n",
            "51 a 65 anos           8.423132\n",
            "maiores de 65 anos     6.041879\n",
            "Name: Anos de Estudo, dtype: float64\n"
          ]
        },
        {
          "name": "stderr",
          "output_type": "stream",
          "text": [
            "C:\\Users\\thimo\\AppData\\Local\\Temp\\ipykernel_9704\\1218949364.py:1: FutureWarning: The default of observed=False is deprecated and will be changed to True in a future version of pandas. Pass observed=False to retain current behavior or observed=True to adopt the future default and silence this warning.\n",
            "  media_escolaridade = df_ibge.groupby('Faixa Etária')['Anos de Estudo'].mean()\n"
          ]
        }
      ],
      "source": [
        "media_escolaridade = df_ibge.groupby('Faixa Etária')['Anos de Estudo'].mean()\n",
        "\n",
        "print(media_escolaridade)"
      ]
    },
    {
      "cell_type": "markdown",
      "metadata": {
        "id": "FgEq2x_mMicx"
      },
      "source": [
        "Qual a UF que concentra a maior renda?\n"
      ]
    },
    {
      "cell_type": "code",
      "execution_count": 25,
      "metadata": {
        "id": "EFe-4pq8NGRf"
      },
      "outputs": [
        {
          "name": "stdout",
          "output_type": "stream",
          "text": [
            "A UF que concentra a maior renda é São Paulo com uma renda total de R$ 22539969,00.\n"
          ]
        }
      ],
      "source": [
        "uf_dict = {\n",
        "    11: 'Rondônia', 12: 'Acre', 13: 'Amazonas', 14: 'Roraima', 15: 'Pará',\n",
        "    16: 'Amapá', 17: 'Tocantins', 21: 'Maranhão', 22: 'Piauí', 23: 'Ceará',\n",
        "    24: 'Rio Grande do Norte', 25: 'Paraíba', 26: 'Pernambuco', 27: 'Alagoas', \n",
        "    28: 'Sergipe', 29: 'Bahia', 31: 'Minas Gerais', 32: 'Espírito Santo', \n",
        "    33: 'Rio de Janeiro', 35: 'São Paulo', 41: 'Paraná', 42: 'Santa Catarina', \n",
        "    43: 'Rio Grande do Sul', 50: 'Mato Grosso do Sul', 51: 'Mato Grosso', \n",
        "    52: 'Goiás', 53: 'Distrito Federal'\n",
        "}\n",
        "\n",
        "\n",
        "df_ibge['UF_Nome'] = df_ibge['UF'].map(uf_dict)\n",
        "\n",
        "\n",
        "renda_por_uf = df_ibge.groupby('UF_Nome')['Renda'].sum()\n",
        "\n",
        "\n",
        "uf_maior_renda = renda_por_uf.idxmax()\n",
        "maior_renda = renda_por_uf.max()\n",
        "\n",
        "print(f\"A UF que concentra a maior renda é {uf_maior_renda} com uma renda total de R$ {maior_renda},00.\")"
      ]
    },
    {
      "cell_type": "markdown",
      "metadata": {
        "id": "VFXayO6DNJ3F"
      },
      "source": [
        "Qual a renda média de pessoas pretas e brancas de homens e mulheres?\n"
      ]
    },
    {
      "cell_type": "code",
      "execution_count": 28,
      "metadata": {
        "id": "JUO0B9kWNcCX"
      },
      "outputs": [
        {
          "name": "stdout",
          "output_type": "stream",
          "text": [
            "Cor_Descricao  Sexo_Descricao\n",
            "Branca         Feminino          2109.866750\n",
            "               Masculino         2925.744435\n",
            "Preta          Feminino          1134.596400\n",
            "               Masculino         1603.861687\n",
            "Name: Renda, dtype: float64\n"
          ]
        }
      ],
      "source": [
        "df_ibge_filtrado = df_ibge[df_ibge['Cor'].isin([2, 4])].copy()  \n",
        "\n",
        "\n",
        "cor_dict = {\n",
        "    0: 'Indígena',\n",
        "    2: 'Branca',\n",
        "    4: 'Preta',\n",
        "    6: 'Amarela',\n",
        "    8: 'Parda',\n",
        "    9: 'Sem declaração'\n",
        "}\n",
        "\n",
        "\n",
        "sexo_dict = {\n",
        "    0: 'Masculino',\n",
        "    1: 'Feminino'\n",
        "}\n",
        "\n",
        "\n",
        "df_ibge_filtrado.loc[:, 'Cor_Descricao'] = df_ibge_filtrado['Cor'].map(cor_dict)\n",
        "df_ibge_filtrado.loc[:, 'Sexo_Descricao'] = df_ibge_filtrado['Sexo'].map(sexo_dict)\n",
        "\n",
        "\n",
        "media_renda = df_ibge_filtrado.groupby(['Cor_Descricao', 'Sexo_Descricao'])['Renda'].mean()\n",
        "\n",
        "print(media_renda)\n"
      ]
    },
    {
      "cell_type": "markdown",
      "metadata": {
        "id": "aqaMxrGMNhQv"
      },
      "source": [
        "Qual a renda média concentrada em cada faixa etária?\n",
        "\n",
        "\n"
      ]
    },
    {
      "cell_type": "code",
      "execution_count": 30,
      "metadata": {
        "id": "yoT1FXJSzKwj"
      },
      "outputs": [
        {
          "name": "stdout",
          "output_type": "stream",
          "text": [
            "Faixa Etária\n",
            "20 anos ou menos       912.784870\n",
            "21 a 35 anos          1715.471606\n",
            "36 a 50 anos          2082.588426\n",
            "51 a 65 anos          2178.064014\n",
            "maiores de 65 anos    1856.341277\n",
            "Name: Renda, dtype: float64\n"
          ]
        }
      ],
      "source": [
        "renda_por_faixa_etaria = df_ibge.groupby('Faixa Etária', observed=False)['Renda'].mean()\n",
        "\n",
        "print(renda_por_faixa_etaria)"
      ]
    },
    {
      "cell_type": "markdown",
      "metadata": {
        "id": "jMjZzRxr29TF"
      },
      "source": [
        "Qual a renda média nas faixas de anos de estudo abaixo?\n",
        "- 2 anos ou menos\n",
        "- 3 a 6 anos\n",
        "- 7 a 10 anos\n",
        "- 10 a 12 anos\n",
        "- 13 anos ou mais\n"
      ]
    },
    {
      "cell_type": "code",
      "execution_count": 31,
      "metadata": {
        "id": "ZWpciLPN3Ckx"
      },
      "outputs": [
        {
          "name": "stdout",
          "output_type": "stream",
          "text": [
            "Faixa Anos de Estudo\n",
            "2 anos ou menos     732.994187\n",
            "3 a 6 anos         1027.102678\n",
            "7 a 10 anos        1328.806052\n",
            "10 a 12 anos       1412.122537\n",
            "13 anos ou mais    2945.785878\n",
            "Name: Renda, dtype: float64\n"
          ]
        },
        {
          "name": "stderr",
          "output_type": "stream",
          "text": [
            "C:\\Users\\thimo\\AppData\\Local\\Temp\\ipykernel_9704\\3732427075.py:8: FutureWarning: The default of observed=False is deprecated and will be changed to True in a future version of pandas. Pass observed=False to retain current behavior or observed=True to adopt the future default and silence this warning.\n",
            "  renda_por_faixa_estudo = df_ibge.groupby('Faixa Anos de Estudo')['Renda'].mean()\n"
          ]
        }
      ],
      "source": [
        "bins = [0, 2, 6, 10, 12, float('inf')]\n",
        "labels = ['2 anos ou menos', '3 a 6 anos', '7 a 10 anos', '10 a 12 anos', '13 anos ou mais']\n",
        "\n",
        "\n",
        "df_ibge['Faixa Anos de Estudo'] = pd.cut(df_ibge['Anos de Estudo'], bins=bins, labels=labels, right=False)\n",
        "\n",
        "\n",
        "renda_por_faixa_estudo = df_ibge.groupby('Faixa Anos de Estudo')['Renda'].mean()\n",
        "\n",
        "print(renda_por_faixa_estudo)"
      ]
    },
    {
      "cell_type": "markdown",
      "metadata": {
        "id": "fDxIIqqS3DHs"
      },
      "source": [
        "Qual a escolaridade entre indígenas, para homens e mulheres?\n"
      ]
    },
    {
      "cell_type": "code",
      "execution_count": 33,
      "metadata": {
        "id": "M85a5qNt3E2y"
      },
      "outputs": [
        {
          "name": "stdout",
          "output_type": "stream",
          "text": [
            "Sexo_Descricao\n",
            "Feminino     9.108911\n",
            "Masculino    7.875000\n",
            "Name: Anos de Estudo, dtype: float64\n"
          ]
        }
      ],
      "source": [
        "df_indigenas = df_ibge[df_ibge['Cor'] == 0].copy() \n",
        "\n",
        "\n",
        "df_indigenas.loc[:, 'Sexo_Descricao'] = df_indigenas['Sexo'].map(sexo_dict)\n",
        "\n",
        "\n",
        "media_escolaridade_indigenas = df_indigenas.groupby('Sexo_Descricao')['Anos de Estudo'].mean()\n",
        "\n",
        "print(media_escolaridade_indigenas)"
      ]
    },
    {
      "cell_type": "markdown",
      "metadata": {
        "id": "hgqYfhU33FtF"
      },
      "source": [
        "Qual a média de anos de estudo entre brancos e negros?\n"
      ]
    },
    {
      "cell_type": "code",
      "execution_count": 35,
      "metadata": {
        "id": "EK9X8wTZ3UdS"
      },
      "outputs": [
        {
          "name": "stdout",
          "output_type": "stream",
          "text": [
            "Cor_Descricao\n",
            "Branca    10.490303\n",
            "Preta      8.861518\n",
            "Name: Anos de Estudo, dtype: float64\n"
          ]
        }
      ],
      "source": [
        "df_brancos_negros = df_ibge[df_ibge['Cor'].isin([2, 4])].copy()\n",
        "\n",
        "df_brancos_negros.loc[:, 'Cor_Descricao'] = df_brancos_negros['Cor'].map(cor_dict)\n",
        "\n",
        "media_anos_estudo_brancos_negros = df_brancos_negros.groupby('Cor_Descricao')['Anos de Estudo'].mean()\n",
        "\n",
        "print(media_anos_estudo_brancos_negros)"
      ]
    },
    {
      "cell_type": "markdown",
      "metadata": {
        "id": "_ZjroKKB3WBx"
      },
      "source": [
        "Qual a média de anos de estudo e de renda para mulheres brancas, e para mulheres negras?"
      ]
    },
    {
      "cell_type": "code",
      "execution_count": 36,
      "metadata": {
        "id": "7dx7zW7M3Wau"
      },
      "outputs": [
        {
          "name": "stdout",
          "output_type": "stream",
          "text": [
            "               Anos de Estudo       Renda\n",
            "Cor_Descricao                            \n",
            "Branca              11.297578  2109.86675\n",
            "Preta                9.522326  1134.59640\n"
          ]
        }
      ],
      "source": [
        "df_mulheres_brancas_negras = df_ibge[(df_ibge['Sexo'] == 1) & df_ibge['Cor'].isin([2, 4])].copy()  \n",
        "\n",
        "\n",
        "\n",
        "df_mulheres_brancas_negras.loc[:, 'Cor_Descricao'] = df_mulheres_brancas_negras['Cor'].map(cor_dict)\n",
        "\n",
        "\n",
        "media_anos_estudo_renda = df_mulheres_brancas_negras.groupby('Cor_Descricao').agg({\n",
        "    'Anos de Estudo': 'mean',\n",
        "    'Renda': 'mean'\n",
        "})\n",
        "\n",
        "print(media_anos_estudo_renda)"
      ]
    },
    {
      "cell_type": "markdown",
      "metadata": {
        "id": "sG2Kkkrd3X5V"
      },
      "source": [
        " Qual é a UF com maior média de escolaridade e qual a UF com maior média de renda?"
      ]
    },
    {
      "cell_type": "code",
      "execution_count": 37,
      "metadata": {
        "id": "imgwaOGk3YNq"
      },
      "outputs": [
        {
          "name": "stdout",
          "output_type": "stream",
          "text": [
            "UF com maior média de escolaridade: Distrito Federal (11.91 anos de estudo)\n",
            "UF com maior média de renda: Distrito Federal (R$ 4241.95)\n"
          ]
        }
      ],
      "source": [
        "media_escolaridade_uf = df_ibge.groupby('UF')['Anos de Estudo'].mean()\n",
        "\n",
        "\n",
        "uf_maior_escolaridade = media_escolaridade_uf.idxmax()\n",
        "media_maior_escolaridade = media_escolaridade_uf.max()\n",
        "\n",
        "\n",
        "media_renda_uf = df_ibge.groupby('UF')['Renda'].mean()\n",
        "\n",
        "\n",
        "uf_maior_renda = media_renda_uf.idxmax()\n",
        "media_maior_renda = media_renda_uf.max()\n",
        "\n",
        "\n",
        "print(f\"UF com maior média de escolaridade: {uf_dict[uf_maior_escolaridade]} ({media_maior_escolaridade:.2f} anos de estudo)\")\n",
        "print(f\"UF com maior média de renda: {uf_dict[uf_maior_renda]} (R$ {media_maior_renda:.2f})\")"
      ]
    },
    {
      "cell_type": "markdown",
      "metadata": {
        "id": "72Oy_JJ_3Z7F"
      },
      "source": [
        "Elabore você uma pergunta sobre a base de dados e escreva o código para responder a pergunta.\n",
        "\n",
        "Qual a cor com maior escolaridade e qual com maior renda? E qual a com menor escolaridade qual com menor renda?"
      ]
    },
    {
      "cell_type": "code",
      "execution_count": 38,
      "metadata": {},
      "outputs": [
        {
          "name": "stdout",
          "output_type": "stream",
          "text": [
            "Cor com maior média de escolaridade: Amarela (12.56 anos de estudo)\n",
            "Cor com maior média de renda: Amarela (R$ 4182.92)\n",
            "Cor com menor média de escolaridade: Indígena (8.22 anos de estudo)\n",
            "Cor com menor média de renda: Preta (R$ 1442.29)\n"
          ]
        }
      ],
      "source": [
        "media_escolaridade_cor = df_ibge.groupby('Cor')['Anos de Estudo'].mean()\n",
        "\n",
        "\n",
        "cor_maior_escolaridade = cor_dict[media_escolaridade_cor.idxmax()]\n",
        "media_maior_escolaridade = media_escolaridade_cor.max()\n",
        "cor_menor_escolaridade = cor_dict[media_escolaridade_cor.idxmin()]\n",
        "media_menor_escolaridade = media_escolaridade_cor.min()\n",
        "\n",
        "\n",
        "media_renda_cor = df_ibge.groupby('Cor')['Renda'].mean()\n",
        "\n",
        "\n",
        "cor_maior_renda = cor_dict[media_renda_cor.idxmax()]\n",
        "media_maior_renda = media_renda_cor.max()\n",
        "cor_menor_renda = cor_dict[media_renda_cor.idxmin()]\n",
        "media_menor_renda = media_renda_cor.min()\n",
        "\n",
        "\n",
        "print(f\"Cor com maior média de escolaridade: {cor_maior_escolaridade} ({media_maior_escolaridade:.2f} anos de estudo)\")\n",
        "print(f\"Cor com maior média de renda: {cor_maior_renda} (R$ {media_maior_renda:.2f})\")\n",
        "print(f\"Cor com menor média de escolaridade: {cor_menor_escolaridade} ({media_menor_escolaridade:.2f} anos de estudo)\")\n",
        "print(f\"Cor com menor média de renda: {cor_menor_renda} (R$ {media_menor_renda:.2f})\")"
      ]
    }
  ],
  "metadata": {
    "colab": {
      "provenance": []
    },
    "kernelspec": {
      "display_name": "Python 3",
      "name": "python3"
    },
    "language_info": {
      "codemirror_mode": {
        "name": "ipython",
        "version": 3
      },
      "file_extension": ".py",
      "mimetype": "text/x-python",
      "name": "python",
      "nbconvert_exporter": "python",
      "pygments_lexer": "ipython3",
      "version": "3.11.0"
    }
  },
  "nbformat": 4,
  "nbformat_minor": 0
}
